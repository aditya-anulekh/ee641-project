{
 "cells": [
  {
   "cell_type": "code",
   "execution_count": 3,
   "metadata": {},
   "outputs": [],
   "source": [
    "import warnings\n",
    "warnings.filterwarnings('ignore')"
   ]
  },
  {
   "cell_type": "code",
   "execution_count": 4,
   "metadata": {},
   "outputs": [],
   "source": [
    "import ipywidgets as widgets\n",
    "import requests\n",
    "from main import predict"
   ]
  },
  {
   "cell_type": "code",
   "execution_count": 5,
   "metadata": {},
   "outputs": [],
   "source": [
    "def on_click_handler(image_url, question_text):\n",
    "    answer, image = predict(image_url, question_text)\n",
    "    display(image)\n",
    "    print(f\"{answer=}\")"
   ]
  },
  {
   "cell_type": "code",
   "execution_count": 6,
   "metadata": {},
   "outputs": [
    {
     "data": {
      "application/vnd.jupyter.widget-view+json": {
       "model_id": "1ac4b63584154ca188aab15484a5c1f7",
       "version_major": 2,
       "version_minor": 0
      },
      "text/plain": [
       "Textarea(value='/ee641-project/ee641-project/data/train2014/COCO_train2014_000000012728.jpg', description='Ima…"
      ]
     },
     "metadata": {},
     "output_type": "display_data"
    },
    {
     "data": {
      "application/vnd.jupyter.widget-view+json": {
       "model_id": "638e922b93374e36a763e9b16a039b68",
       "version_major": 2,
       "version_minor": 0
      },
      "text/plain": [
       "Textarea(value='What is the color of the airplane?', description='Question', placeholder='Ask a question about…"
      ]
     },
     "metadata": {},
     "output_type": "display_data"
    },
    {
     "data": {
      "application/vnd.jupyter.widget-view+json": {
       "model_id": "f08e375553c7447b8488d55a4ea78f9c",
       "version_major": 2,
       "version_minor": 0
      },
      "text/plain": [
       "Button(description='VQA', style=ButtonStyle())"
      ]
     },
     "metadata": {},
     "output_type": "display_data"
    }
   ],
   "source": [
    "image_url = widgets.Textarea(\n",
    "    placeholder='Input the absolute path of the image',\n",
    "    description='Image Path',\n",
    "    disabled=False,\n",
    "    value = '/ee641-project/ee641-project/data/train2014/COCO_train2014_000000012728.jpg'\n",
    ")\n",
    "\n",
    "question_text = widgets.Textarea(\n",
    "    placeholder='Ask a question about the image',\n",
    "    description='Question',\n",
    "    disabled=False,\n",
    "    value = 'What is the color of the airplane?'\n",
    ")\n",
    "\n",
    "submit_button = widgets.Button(description=\"VQA\")\n",
    "\n",
    "display(image_url)\n",
    "display(question_text)\n",
    "display(submit_button)\n",
    "\n",
    "submit_button.on_click(lambda b: on_click_handler(image_url.value, question_text.value))"
   ]
  },
  {
   "cell_type": "code",
   "execution_count": null,
   "metadata": {},
   "outputs": [],
   "source": []
  }
 ],
 "metadata": {
  "kernelspec": {
   "display_name": "Python 3 (ipykernel)",
   "language": "python",
   "name": "python3"
  },
  "language_info": {
   "codemirror_mode": {
    "name": "ipython",
    "version": 3
   },
   "file_extension": ".py",
   "mimetype": "text/x-python",
   "name": "python",
   "nbconvert_exporter": "python",
   "pygments_lexer": "ipython3",
   "version": "3.10.8"
  },
  "vscode": {
   "interpreter": {
    "hash": "1d882ba3a4378c595baf16ee82511dae009226ab41a91269322ba630fc2f7752"
   }
  }
 },
 "nbformat": 4,
 "nbformat_minor": 1
}
